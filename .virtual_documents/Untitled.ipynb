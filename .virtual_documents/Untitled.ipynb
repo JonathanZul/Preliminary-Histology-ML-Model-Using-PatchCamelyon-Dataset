














from datasets import load_dataset

# Load PatchCamelyon dataset using library, 
# this will download dataset and cache it for future use if not available locally.

try:
    pcam = load_dataset("patch_camelyon")
    print("Successfully loaded PatchCamelyon dataset.")
except Exception as e:
    print("Error loading dataset: e")



